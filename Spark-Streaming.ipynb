{
 "cells": [
  {
   "cell_type": "code",
   "execution_count": 2,
   "metadata": {
    "collapsed": true
   },
   "outputs": [],
   "source": [
    "# Example weather station data\n",
    "#\n",
    "# 1419408015\t0R1,Dn=059D,Dm=066D,Dx=080D,Sn=8.5M,Sm=9.5M,Sx=10.3M\n",
    "# 1419408016\t0R1,Dn=059D,Dm=065D,Dx=078D,Sn=8.5M,Sm=9.5M,Sx=10.3M\n",
    "# 1419408016\t0R2,Ta=13.9C,Ua=28.5P,Pa=889.9H\n",
    "# 1419408017\t0R1,Dn=059D,Dm=064D,Dx=075D,Sn=8.7M,Sm=9.6M,Sx=10.3M\n",
    "# 1419408018\t0R1,Dn=059D,Dm=064D,Dx=075D,Sn=8.9M,Sm=9.6M,Sx=10.3M\n",
    "# 1419408019\t0R1,Dn=059D,Dm=065D,Dx=075D,Sn=8.8M,Sm=9.5M,Sx=10.3M"
   ]
  },
  {
   "cell_type": "code",
   "execution_count": 3,
   "metadata": {
    "collapsed": true
   },
   "outputs": [],
   "source": [
    "# Key for measurements:\n",
    "#\n",
    "# Sn      Wind speed minimum m/s, km/h, mph, knots #,M, K, S, N\n",
    "# Sm      Wind speed average m/s, km/h, mph, knots #,M, K, S, N\n",
    "# Sx      Wind speed maximum m/s, km/h, mph, knots #,M, K, S, N\n",
    "# Dn      Wind direction minimum deg #, D\n",
    "# Dm      Wind direction average deg #, D\n",
    "# Dx      Wind direction maximum deg #, D\n",
    "# Pa      Air pressure hPa, Pa, bar, mmHg, inHg #, H, P, B, M, I\n",
    "# Ta      Air temperature °C, °F #, C, F\n",
    "# Tp      Internal temperature °C, °F #, C, F\n",
    "# Ua      Relative humidity %RH #, P\n",
    "# Rc      Rain accumulation mm, in #, M, I\n",
    "# Rd      Rain duration s #, S\n",
    "# Ri      Rain intensity mm/h, in/h #, M, I\n",
    "# Rp      Rain peak intensity mm/h, in/h #, M, I\n",
    "# Hc      Hail accumulation hits/cm2, hits/in2, hits #, M, I, H\n",
    "# Hd      Hail duration s #, S\n",
    "# Hi      Hail intensity hits/cm2h, hits/in2h, hits/ h #, M, I, H\n",
    "# Hp      Hail peak intensity hits/cm2h, hits/in2h, hits/ h #, M, I, H\n",
    "# Th      Heating temperature °C, °F #, C, F\n",
    "# Vh      Heating voltage V #, N, V, W, F2\n",
    "# Vs      Supply voltage V V\n",
    "# Vr      3.5 V ref. voltage V V"
   ]
  },
  {
   "cell_type": "code",
   "execution_count": 1,
   "metadata": {
    "collapsed": true
   },
   "outputs": [],
   "source": [
    "# Parse a line of weather station data, returning the average wind direction measurement \n",
    "#\n",
    "import re\n",
    "def parse(line):\n",
    "    match = re.search(\"Dm=(\\d+)\", line)\n",
    "    if match:\n",
    "        val = match.group(1)\n",
    "        return [int(val)]\n",
    "    return []"
   ]
  },
  {
   "cell_type": "code",
   "execution_count": 2,
   "metadata": {
    "collapsed": true
   },
   "outputs": [],
   "source": [
    "from pyspark.streaming import StreamingContext\n",
    "ssc = StreamingContext(sc, 1)"
   ]
  },
  {
   "cell_type": "code",
   "execution_count": 4,
   "metadata": {
    "collapsed": false
   },
   "outputs": [],
   "source": [
    "# Open connection to the streaming weather data\n",
    "\n",
    "lines = ssc.socketTextStream(\"rtd.hpwren.ucsd.edu\", 12028)"
   ]
  },
  {
   "cell_type": "code",
   "execution_count": 7,
   "metadata": {
    "collapsed": false
   },
   "outputs": [],
   "source": [
    "# discretized stream = DStream - high level abstraction Spark Streaming provides to represent a continuous stream of data\n",
    "# Internally, DStream is represented as a sequence of RDDs. \n",
    "\n",
    "# read average wind speed from each line and store it in a new DStream vals\n",
    "vals = lines.flatMap(parse)"
   ]
  },
  {
   "cell_type": "code",
   "execution_count": 8,
   "metadata": {
    "collapsed": true
   },
   "outputs": [],
   "source": [
    "# The window, sliding, contains 10 seconds worth of data and slides every five seconds\n",
    "\n",
    "window = vals.window(10,5)"
   ]
  },
  {
   "cell_type": "code",
   "execution_count": 9,
   "metadata": {
    "collapsed": true
   },
   "outputs": [],
   "source": [
    "# Define and call analysis function\n",
    "\n",
    "def stats(rdd):\n",
    "    print(rdd.collect())\n",
    "    if rddcount() >0:\n",
    "            print(\"max = {}, min = {}\".format(rdd.max(), rdd.min()))"
   ]
  },
  {
   "cell_type": "code",
   "execution_count": 10,
   "metadata": {
    "collapsed": true
   },
   "outputs": [],
   "source": [
    "# Call stats functino for each RDD in our sliding window\n",
    "\n",
    "window.foreachRDD(lambda rdd: stats(rdd))"
   ]
  },
  {
   "cell_type": "code",
   "execution_count": 11,
   "metadata": {
    "collapsed": false
   },
   "outputs": [
    {
     "name": "stdout",
     "output_type": "stream",
     "text": [
      "[]\n",
      "[67, 76, 74, 64, 53]\n",
      "[67, 76, 74, 64, 53, 57, 55, 48, 56, 69]\n",
      "[57, 55, 48, 56, 69, 62, 51, 44, 50, 50]\n",
      "[62, 51, 44, 50, 50, 53, 55, 67, 62, 58]\n",
      "[53, 55, 67, 62, 58, 61, 61, 66, 68, 76]\n",
      "[61, 61, 66, 68, 76, 69, 64, 50, 51, 60]\n",
      "[69, 64, 50, 51, 60, 65, 66, 64, 55, 49]\n",
      "[65, 66, 64, 55, 49, 56, 50, 56, 55, 47]\n",
      "[56, 50, 56, 55, 47, 45, 39, 36, 32, 29]\n",
      "[45, 39, 36, 32, 29, 26, 22, 24, 27, 30]\n",
      "[26, 22, 24, 27, 30, 35, 40, 32, 45, 45]\n",
      "[35, 40, 32, 45, 45, 47, 57, 59, 59, 55, 49]\n",
      "[47, 57, 59, 59, 55, 49, 42, 39, 48, 43, 39]\n",
      "[42, 39, 48, 43, 39, 29, 29, 21, 26, 26]\n",
      "[29, 29, 21, 26, 26, 24, 25, 27, 32, 40]\n",
      "[24, 25, 27, 32, 40, 43, 37, 35, 32, 32]\n",
      "[43, 37, 35, 32, 32, 34, 40, 45, 43, 41]\n",
      "[34, 40, 45, 43, 41, 45, 50, 61, 61, 61]\n",
      "[45, 50, 61, 61, 61, 68, 68, 63, 68, 60]\n",
      "[68, 68, 63, 68, 60, 51, 41, 43, 51, 57]\n",
      "[51, 41, 43, 51, 57, 46, 41, 35, 32, 41]\n",
      "[46, 41, 35, 32, 41, 48, 62, 52, 40, 29]\n",
      "[48, 62, 52, 40, 29, 30, 29, 46, 46, 49]\n",
      "[30, 29, 46, 46, 49, 52, 51, 54, 54, 61, 65]\n",
      "[52, 51, 54, 54, 61, 65, 74, 84, 84, 89, 95]\n",
      "[74, 84, 84, 89, 95, 93, 85, 84, 82, 92]\n",
      "[93, 85, 84, 82, 92, 89, 71, 61, 52, 48]\n",
      "[89, 71, 61, 52, 48, 41, 50, 55, 56, 45]\n",
      "[41, 50, 55, 56, 45, 45, 52, 58, 58, 51]\n",
      "[45, 52, 58, 58, 51, 61, 50, 48, 49, 44]\n",
      "[61, 50, 48, 49, 44, 29, 23, 12, 4, 8]\n",
      "[29, 23, 12, 4, 8, 3, 8, 5, 4, 13]\n",
      "[3, 8, 5, 4, 13, 21, 27, 33, 45, 34]\n"
     ]
    }
   ],
   "source": [
    "# Start the streaming process\n",
    "\n",
    "ssc.start()"
   ]
  },
  {
   "cell_type": "code",
   "execution_count": 12,
   "metadata": {
    "collapsed": false
   },
   "outputs": [
    {
     "name": "stdout",
     "output_type": "stream",
     "text": [
      "[21, 27, 33, 45, 34, 31, 32, 25, 28, 25]\n"
     ]
    }
   ],
   "source": [
    "ssc.stop()"
   ]
  },
  {
   "cell_type": "code",
   "execution_count": null,
   "metadata": {
    "collapsed": true
   },
   "outputs": [],
   "source": []
  }
 ],
 "metadata": {
  "kernelspec": {
   "display_name": "Python 3",
   "language": "python",
   "name": "python3"
  },
  "language_info": {
   "codemirror_mode": {
    "name": "ipython",
    "version": 3
   },
   "file_extension": ".py",
   "mimetype": "text/x-python",
   "name": "python",
   "nbconvert_exporter": "python",
   "pygments_lexer": "ipython3",
   "version": "3.5.1"
  }
 },
 "nbformat": 4,
 "nbformat_minor": 0
}
