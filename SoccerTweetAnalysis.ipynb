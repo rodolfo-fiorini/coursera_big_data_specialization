{
 "cells": [
  {
   "cell_type": "code",
   "execution_count": 2,
   "metadata": {
    "collapsed": false
   },
   "outputs": [],
   "source": [
    "# Import and create a new SQLContext \n",
    "from pyspark.sql import SQLContext\n",
    "sqlContext = SQLContext(sc)"
   ]
  },
  {
   "cell_type": "code",
   "execution_count": 3,
   "metadata": {
    "collapsed": false
   },
   "outputs": [
    {
     "data": {
      "text/plain": [
       "['Afghanistan, AFG',\n",
       " 'Albania, ALB',\n",
       " 'Algeria, ALG',\n",
       " 'American Samoa, ASA',\n",
       " 'Andorra, AND']"
      ]
     },
     "execution_count": 3,
     "metadata": {},
     "output_type": "execute_result"
    }
   ],
   "source": [
    "# Read the country CSV file into an RDD.\n",
    "country_lines = sc.textFile('file:///home/cloudera/Downloads/big-data-3/final-project/country-list.csv')\n",
    "country_lines.take(5)"
   ]
  },
  {
   "cell_type": "code",
   "execution_count": 4,
   "metadata": {
    "collapsed": false
   },
   "outputs": [],
   "source": [
    "# Convert each line into a pair of words\n",
    "country_tuples = country_lines.map(lambda pair : tuple(pair.split(\",\")))\n"
   ]
  },
  {
   "cell_type": "code",
   "execution_count": 5,
   "metadata": {
    "collapsed": false
   },
   "outputs": [],
   "source": [
    "# Convert each pair of words into a tuple\n"
   ]
  },
  {
   "cell_type": "code",
   "execution_count": 29,
   "metadata": {
    "collapsed": false
   },
   "outputs": [
    {
     "name": "stdout",
     "output_type": "stream",
     "text": [
      "root\n",
      " |-- country: string (nullable = true)\n",
      " |-- code: string (nullable = true)\n",
      "\n",
      "+-------------------+----+\n",
      "|            country|code|\n",
      "+-------------------+----+\n",
      "|        Afghanistan| AFG|\n",
      "|            Albania| ALB|\n",
      "|            Algeria| ALG|\n",
      "|     American Samoa| ASA|\n",
      "|            Andorra| AND|\n",
      "|             Angola| ANG|\n",
      "|           Anguilla| AIA|\n",
      "|Antigua and Barbuda| ATG|\n",
      "|          Argentina| ARG|\n",
      "|            Armenia| ARM|\n",
      "|              Aruba| ARU|\n",
      "|          Australia| AUS|\n",
      "|            Austria| AUT|\n",
      "|         Azerbaijan| AZE|\n",
      "|            Bahamas| BAH|\n",
      "|            Bahrain| BHR|\n",
      "|         Bangladesh| BAN|\n",
      "|           Barbados| BRB|\n",
      "|            Belarus| BLR|\n",
      "|            Belgium| BEL|\n",
      "+-------------------+----+\n",
      "only showing top 20 rows\n",
      "\n"
     ]
    }
   ],
   "source": [
    "# Create the DataFrame, look at schema and contents\n",
    "countryDF = sqlContext.createDataFrame(country_tuples, [\"country\", \"code\"])\n",
    "countryDF.printSchema()\n",
    "countryDF.show()"
   ]
  },
  {
   "cell_type": "code",
   "execution_count": 19,
   "metadata": {
    "collapsed": false
   },
   "outputs": [
    {
     "data": {
      "text/plain": [
       "['RT @ochocinco: I beat them all for 10 straight hours #FIFA16KING  https://t.co/BFnV6jfkBL',\n",
       " 'RT @NiallOfficial: @Louis_Tomlinson @socceraid when I retired from playing because of my knee . I went and did my uefa A badges in Dublin']"
      ]
     },
     "execution_count": 19,
     "metadata": {},
     "output_type": "execute_result"
    }
   ],
   "source": [
    "# Read tweets CSV file into RDD of lines\n",
    "tweet_lines = sc.textFile(\"file:///home/cloudera/Downloads/big-data-3/mongodb/tweet_data.csv\")\n",
    "tweet_lines.take(2)"
   ]
  },
  {
   "cell_type": "code",
   "execution_count": 21,
   "metadata": {
    "collapsed": false
   },
   "outputs": [
    {
     "data": {
      "text/plain": [
       "13994"
      ]
     },
     "execution_count": 21,
     "metadata": {},
     "output_type": "execute_result"
    }
   ],
   "source": [
    "# Clean the data: some tweets are empty. Remove the empty tweets using filter() \n",
    "tweet_lines.filter(lambda x: x != '')\n",
    "tweet_lines.count()"
   ]
  },
  {
   "cell_type": "code",
   "execution_count": 20,
   "metadata": {
    "collapsed": false
   },
   "outputs": [
    {
     "data": {
      "text/plain": [
       "[('', 3896),\n",
       " ('https://t.co/fQftAwGAad', 1),\n",
       " ('mobile', 1),\n",
       " ('#FridayNightTouchdown', 1),\n",
       " ('circle', 7),\n",
       " ('#thfc', 2),\n",
       " ('reinstated', 4),\n",
       " ('like?\"', 1),\n",
       " ('Bellow', 1),\n",
       " ('now\"', 1),\n",
       " ('https://t.co/W4QluWGyeq', 1),\n",
       " ('https://t.co/qMkpvzgr0Y', 1),\n",
       " ('NINTENDO', 1),\n",
       " ('year-', 1),\n",
       " ('belt', 1),\n",
       " ('ago\"', 1),\n",
       " ('laundry', 1),\n",
       " ('https://t.co/BLUXNc2wGB', 1),\n",
       " ('\"BEST', 2),\n",
       " ('why', 130)]"
      ]
     },
     "execution_count": 20,
     "metadata": {},
     "output_type": "execute_result"
    }
   ],
   "source": [
    "# Perform WordCount on the cleaned tweet texts. (note: this is several lines.)\n",
    "\n",
    "word_list = tweet_lines.flatMap(lambda line: line.split(\" \"))\n",
    "\n",
    "word_tuple = word_list.map(lambda word: (word, 1))\n",
    "word_tuple = word_tuple.reduceByKey(lambda word1, word2: word1 + word2)"
   ]
  },
  {
   "cell_type": "code",
   "execution_count": 55,
   "metadata": {
    "collapsed": false
   },
   "outputs": [
    {
     "name": "stdout",
     "output_type": "stream",
     "text": [
      "root\n",
      " |-- tweet_word: string (nullable = true)\n",
      " |-- num: long (nullable = true)\n",
      "\n",
      "+--------------------+----+\n",
      "|          tweet_word| num|\n",
      "+--------------------+----+\n",
      "|                    |3896|\n",
      "|https://t.co/fQft...|   1|\n",
      "|              mobile|   1|\n",
      "|#FridayNightTouch...|   1|\n",
      "|              circle|   7|\n",
      "|               #thfc|   2|\n",
      "|          reinstated|   4|\n",
      "|              like?\"|   1|\n",
      "|              Bellow|   1|\n",
      "|                now\"|   1|\n",
      "|https://t.co/W4Ql...|   1|\n",
      "|https://t.co/qMkp...|   1|\n",
      "|            NINTENDO|   1|\n",
      "|               year-|   1|\n",
      "|                belt|   1|\n",
      "|                ago\"|   1|\n",
      "|             laundry|   1|\n",
      "|https://t.co/BLUX...|   1|\n",
      "|               \"BEST|   2|\n",
      "|                 why| 130|\n",
      "+--------------------+----+\n",
      "only showing top 20 rows\n",
      "\n"
     ]
    }
   ],
   "source": [
    "# Create the DataFrame of tweet word counts\n",
    "tweet_words = sqlContext.createDataFrame(word_tuple, [\"tweet_word\", \"num\"])\n",
    "tweet_words.printSchema()\n",
    "tweet_words.show()"
   ]
  },
  {
   "cell_type": "code",
   "execution_count": 56,
   "metadata": {
    "collapsed": false
   },
   "outputs": [
    {
     "name": "stdout",
     "output_type": "stream",
     "text": [
      "+-----------+----+-----------+---+\n",
      "|    country|code| tweet_word|num|\n",
      "+-----------+----+-----------+---+\n",
      "|   Thailand| THA|   Thailand|  1|\n",
      "|    Iceland| ISL|    Iceland|  2|\n",
      "|     Mexico| MEX|     Mexico|  1|\n",
      "|      Wales| WAL|      Wales| 19|\n",
      "|    Denmark| DEN|    Denmark|  1|\n",
      "|      India| IND|      India|  4|\n",
      "|   Portugal| POR|   Portugal|  8|\n",
      "|     Poland| POL|     Poland|  1|\n",
      "|     Norway| NOR|     Norway| 52|\n",
      "|     Guinea| GUI|     Guinea|  8|\n",
      "|   Slovakia| SVK|   Slovakia| 30|\n",
      "|     Canada| CAN|     Canada| 11|\n",
      "|Netherlands| NED|Netherlands| 13|\n",
      "|      Kenya| KEN|      Kenya|  3|\n",
      "|       Oman| OMA|       Oman|  1|\n",
      "|      Qatar| QAT|      Qatar|  4|\n",
      "|     Brazil| BRA|     Brazil| 13|\n",
      "|    England| ENG|    England| 25|\n",
      "|    Albania| ALB|    Albania|  1|\n",
      "|  Argentina| ARG|  Argentina|  2|\n",
      "+-----------+----+-----------+---+\n",
      "only showing top 20 rows\n",
      "\n"
     ]
    }
   ],
   "source": [
    "# Join the country and tweet data frames (on the appropriate column)\n",
    "inner_join = countryDF.join(tweet_words, countryDF.country == tweet_words.tweet_word)\n",
    "inner_join.show()"
   ]
  },
  {
   "cell_type": "code",
   "execution_count": 58,
   "metadata": {
    "collapsed": false
   },
   "outputs": [
    {
     "name": "stdout",
     "output_type": "stream",
     "text": [
      "+-----------+----+---+\n",
      "|    country|code|num|\n",
      "+-----------+----+---+\n",
      "|   Thailand| THA|  1|\n",
      "|    Iceland| ISL|  2|\n",
      "|     Mexico| MEX|  1|\n",
      "|      Wales| WAL| 19|\n",
      "|    Denmark| DEN|  1|\n",
      "|      India| IND|  4|\n",
      "|   Portugal| POR|  8|\n",
      "|     Poland| POL|  1|\n",
      "|     Norway| NOR| 52|\n",
      "|     Guinea| GUI|  8|\n",
      "|   Slovakia| SVK| 30|\n",
      "|     Canada| CAN| 11|\n",
      "|Netherlands| NED| 13|\n",
      "|      Kenya| KEN|  3|\n",
      "|       Oman| OMA|  1|\n",
      "|      Qatar| QAT|  4|\n",
      "|     Brazil| BRA| 13|\n",
      "|    England| ENG| 25|\n",
      "|    Albania| ALB|  1|\n",
      "|  Argentina| ARG|  2|\n",
      "+-----------+----+---+\n",
      "only showing top 20 rows\n",
      "\n"
     ]
    }
   ],
   "source": [
    "inner_join = inner_join.select(\"country\", \"code\", \"num\")\n",
    "inner_join.show()"
   ]
  },
  {
   "cell_type": "code",
   "execution_count": 59,
   "metadata": {
    "collapsed": false
   },
   "outputs": [
    {
     "data": {
      "text/plain": [
       "44"
      ]
     },
     "execution_count": 59,
     "metadata": {},
     "output_type": "execute_result"
    }
   ],
   "source": [
    "# Question 1: number of distinct countries mentioned\n",
    "inner_join.select(\"country\").count()"
   ]
  },
  {
   "cell_type": "code",
   "execution_count": 60,
   "metadata": {
    "collapsed": false
   },
   "outputs": [
    {
     "name": "stdout",
     "output_type": "stream",
     "text": [
      "+--------+\n",
      "|sum(num)|\n",
      "+--------+\n",
      "|     397|\n",
      "+--------+\n",
      "\n"
     ]
    }
   ],
   "source": [
    "# Question 2: number of countries mentioned in tweets.\n",
    "from pyspark.sql.functions import sum\n",
    "inner_join.select(sum(\"num\")).show()"
   ]
  },
  {
   "cell_type": "code",
   "execution_count": 61,
   "metadata": {
    "collapsed": false
   },
   "outputs": [
    {
     "name": "stdout",
     "output_type": "stream",
     "text": [
      "+-------+-----------------+\n",
      "|summary|              num|\n",
      "+-------+-----------------+\n",
      "|  count|               44|\n",
      "|   mean|9.022727272727273|\n",
      "| stddev|12.62977036076866|\n",
      "|    min|                1|\n",
      "|    max|               52|\n",
      "+-------+-----------------+\n",
      "\n"
     ]
    }
   ],
   "source": [
    "inner_join.describe(\"num\").show()"
   ]
  },
  {
   "cell_type": "code",
   "execution_count": 63,
   "metadata": {
    "collapsed": false
   },
   "outputs": [
    {
     "name": "stdout",
     "output_type": "stream",
     "text": [
      "+-------+----+---+\n",
      "|country|code|num|\n",
      "+-------+----+---+\n",
      "| Norway| NOR| 52|\n",
      "|Nigeria| NGA| 49|\n",
      "| France| FRA| 42|\n",
      "+-------+----+---+\n",
      "only showing top 3 rows\n",
      "\n"
     ]
    }
   ],
   "source": [
    "# Question 3: what are the three countries with the highest mentioned count?\n",
    "inner_join.orderBy(inner_join.num.desc()).show(3)"
   ]
  },
  {
   "cell_type": "code",
   "execution_count": 74,
   "metadata": {
    "collapsed": false
   },
   "outputs": [
    {
     "name": "stdout",
     "output_type": "stream",
     "text": [
      "+-------+----+---+\n",
      "|country|code|num|\n",
      "+-------+----+---+\n",
      "| France| FRA| 42|\n",
      "+-------+----+---+\n",
      "\n"
     ]
    }
   ],
   "source": [
    "# Question 4: How many times was France mentioned in a tweet?\n",
    "inner_join.filter(inner_join.country == \"France\").show()"
   ]
  },
  {
   "cell_type": "code",
   "execution_count": 77,
   "metadata": {
    "collapsed": false
   },
   "outputs": [
    {
     "name": "stdout",
     "output_type": "stream",
     "text": [
      "+-----------+----+---+\n",
      "|    country|code|num|\n",
      "+-----------+----+---+\n",
      "|      Wales| WAL| 19|\n",
      "|Netherlands| NED| 13|\n",
      "|      Kenya| KEN|  3|\n",
      "+-----------+----+---+\n",
      "\n"
     ]
    }
   ],
   "source": [
    "# Question 5: which country was mentioned the most: Kenya, Wales, or Netherlands?\n",
    "# inner_join.filter(inner_join.country == \"Kenya\").show()\n",
    "inner_join.filter((inner_join.country == 'Kenya') | (inner_join.country == 'Wales') | (inner_join.country == 'Netherlands')).show()"
   ]
  },
  {
   "cell_type": "code",
   "execution_count": 80,
   "metadata": {
    "collapsed": false
   },
   "outputs": [
    {
     "name": "stdout",
     "output_type": "stream",
     "text": [
      "+-------+-----------------+\n",
      "|summary|              num|\n",
      "+-------+-----------------+\n",
      "|  count|               44|\n",
      "|   mean|9.022727272727273|\n",
      "| stddev|12.62977036076866|\n",
      "|    min|                1|\n",
      "|    max|               52|\n",
      "+-------+-----------------+\n",
      "\n"
     ]
    }
   ],
   "source": [
    "# Question 6: what is the average number of times a country is mentioned?\n",
    "\n",
    "inner_join.describe(\"num\").show()"
   ]
  },
  {
   "cell_type": "code",
   "execution_count": null,
   "metadata": {
    "collapsed": false
   },
   "outputs": [],
   "source": [
    "# Table 1: top three countries and their counts.\n",
    "from pyspark.sql.functions import desc\n"
   ]
  },
  {
   "cell_type": "code",
   "execution_count": null,
   "metadata": {
    "collapsed": false
   },
   "outputs": [],
   "source": [
    "# Table 2: counts for Wales, Iceland, and Japan.\n"
   ]
  }
 ],
 "metadata": {
  "kernelspec": {
   "display_name": "Python 3",
   "language": "python",
   "name": "python3"
  },
  "language_info": {
   "codemirror_mode": {
    "name": "ipython",
    "version": 3
   },
   "file_extension": ".py",
   "mimetype": "text/x-python",
   "name": "python",
   "nbconvert_exporter": "python",
   "pygments_lexer": "ipython3",
   "version": "3.5.1"
  }
 },
 "nbformat": 4,
 "nbformat_minor": 0
}
