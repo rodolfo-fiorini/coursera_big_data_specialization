{
 "cells": [
  {
   "cell_type": "code",
   "execution_count": 17,
   "metadata": {
    "collapsed": false
   },
   "outputs": [
    {
     "data": {
      "text/plain": [
       "'This is the 100th Etext file presented by Project Gutenberg, and'"
      ]
     },
     "execution_count": 17,
     "metadata": {},
     "output_type": "execute_result"
    }
   ],
   "source": [
    "lines = sc.textFile(\"hdfs:/user/cloudera/words.txt\")\n",
    "lines.first()"
   ]
  },
  {
   "cell_type": "code",
   "execution_count": 32,
   "metadata": {
    "collapsed": false
   },
   "outputs": [
    {
     "data": {
      "text/plain": [
       "[['This',\n",
       "  'is',\n",
       "  'the',\n",
       "  '100th',\n",
       "  'Etext',\n",
       "  'file',\n",
       "  'presented',\n",
       "  'by',\n",
       "  'Project',\n",
       "  'Gutenberg,',\n",
       "  'and'],\n",
       " ['is',\n",
       "  'presented',\n",
       "  'in',\n",
       "  'cooperation',\n",
       "  'with',\n",
       "  'World',\n",
       "  'Library,',\n",
       "  'Inc.,',\n",
       "  'from',\n",
       "  'their'],\n",
       " ['Library',\n",
       "  'of',\n",
       "  'the',\n",
       "  'Future',\n",
       "  'and',\n",
       "  'Shakespeare',\n",
       "  'CDROMS.',\n",
       "  '',\n",
       "  'Project',\n",
       "  'Gutenberg'],\n",
       " ['often',\n",
       "  'releases',\n",
       "  'Etexts',\n",
       "  'that',\n",
       "  'are',\n",
       "  'NOT',\n",
       "  'placed',\n",
       "  'in',\n",
       "  'the',\n",
       "  'Public',\n",
       "  'Domain!!'],\n",
       " [''],\n",
       " ['Shakespeare'],\n",
       " [''],\n",
       " ['*This',\n",
       "  'Etext',\n",
       "  'has',\n",
       "  'certain',\n",
       "  'copyright',\n",
       "  'implications',\n",
       "  'you',\n",
       "  'should',\n",
       "  'read!*'],\n",
       " [''],\n",
       " ['<<THIS',\n",
       "  'ELECTRONIC',\n",
       "  'VERSION',\n",
       "  'OF',\n",
       "  'THE',\n",
       "  'COMPLETE',\n",
       "  'WORKS',\n",
       "  'OF',\n",
       "  'WILLIAM']]"
      ]
     },
     "execution_count": 32,
     "metadata": {},
     "output_type": "execute_result"
    }
   ],
   "source": [
    "lines.map(lambda line: line.split(\" \")).flatten"
   ]
  },
  {
   "cell_type": "code",
   "execution_count": 6,
   "metadata": {
    "collapsed": false
   },
   "outputs": [],
   "source": [
    "words = lines.flatMap(lambda line : line.split(\" \"))"
   ]
  },
  {
   "cell_type": "code",
   "execution_count": 19,
   "metadata": {
    "collapsed": false
   },
   "outputs": [
    {
     "data": {
      "text/plain": [
       "'This'"
      ]
     },
     "execution_count": 19,
     "metadata": {},
     "output_type": "execute_result"
    }
   ],
   "source": [
    "words.first()"
   ]
  },
  {
   "cell_type": "code",
   "execution_count": 20,
   "metadata": {
    "collapsed": true
   },
   "outputs": [],
   "source": [
    "tuples = words.map(lambda word : (word,1))"
   ]
  },
  {
   "cell_type": "code",
   "execution_count": 21,
   "metadata": {
    "collapsed": false
   },
   "outputs": [
    {
     "data": {
      "text/plain": [
       "('This', 1)"
      ]
     },
     "execution_count": 21,
     "metadata": {},
     "output_type": "execute_result"
    }
   ],
   "source": [
    "tuples.first()"
   ]
  },
  {
   "cell_type": "code",
   "execution_count": 23,
   "metadata": {
    "collapsed": false
   },
   "outputs": [
    {
     "data": {
      "text/plain": [
       "1418390"
      ]
     },
     "execution_count": 23,
     "metadata": {},
     "output_type": "execute_result"
    }
   ],
   "source": [
    "tuples.count()"
   ]
  },
  {
   "cell_type": "code",
   "execution_count": 24,
   "metadata": {
    "collapsed": true
   },
   "outputs": [],
   "source": [
    "counts = tuples.reduceByKey(lambda a, b: (a+b))"
   ]
  },
  {
   "cell_type": "code",
   "execution_count": 29,
   "metadata": {
    "collapsed": false
   },
   "outputs": [
    {
     "data": {
      "text/plain": [
       "[('', 517065),\n",
       " ('VENTIDIUS', 3),\n",
       " ('Stockfish,', 1),\n",
       " ('Corin,', 2),\n",
       " ('Begin', 6),\n",
       " ('snap.', 1),\n",
       " ('Just', 10),\n",
       " ('Kills', 3),\n",
       " ('enrooted', 1),\n",
       " ('divers', 20),\n",
       " (\"Greeks'\", 1),\n",
       " ('Doubtless', 2),\n",
       " ('undistinguishable,', 1),\n",
       " (\"acquir'd,\", 1),\n",
       " ('incorporate.', 1),\n",
       " ('Fairing', 1),\n",
       " ('rare,', 10),\n",
       " (\"Stain'd\", 2),\n",
       " ('rhyme', 11),\n",
       " ('keeps.', 1)]"
      ]
     },
     "execution_count": 29,
     "metadata": {},
     "output_type": "execute_result"
    }
   ],
   "source": [
    "counts.take(20)"
   ]
  },
  {
   "cell_type": "code",
   "execution_count": 30,
   "metadata": {
    "collapsed": true
   },
   "outputs": [],
   "source": [
    "counts.coalesce(1).saveAsTextFile('hdfs:/user/cloudera/wordcount/outputDir')"
   ]
  },
  {
   "cell_type": "code",
   "execution_count": 34,
   "metadata": {
    "collapsed": false
   },
   "outputs": [],
   "source": [
    "from pyspark.mllib.stat import Statistics"
   ]
  },
  {
   "cell_type": "code",
   "execution_count": 36,
   "metadata": {
    "collapsed": false
   },
   "outputs": [],
   "source": [
    "dataMatrix = sc.parallelize([[1,2,3],[4,5,6],[7,8,9],[10,11,12]])"
   ]
  },
  {
   "cell_type": "code",
   "execution_count": 41,
   "metadata": {
    "collapsed": false
   },
   "outputs": [
    {
     "data": {
      "text/plain": [
       "array([ 15.,  15.,  15.])"
      ]
     },
     "execution_count": 41,
     "metadata": {},
     "output_type": "execute_result"
    }
   ],
   "source": [
    "Statistics.colStats(dataMatrix).variance()"
   ]
  },
  {
   "cell_type": "code",
   "execution_count": null,
   "metadata": {
    "collapsed": true
   },
   "outputs": [],
   "source": []
  }
 ],
 "metadata": {
  "kernelspec": {
   "display_name": "Python 3",
   "language": "python",
   "name": "python3"
  },
  "language_info": {
   "codemirror_mode": {
    "name": "ipython",
    "version": 3
   },
   "file_extension": ".py",
   "mimetype": "text/x-python",
   "name": "python",
   "nbconvert_exporter": "python",
   "pygments_lexer": "ipython3",
   "version": "3.5.1"
  }
 },
 "nbformat": 4,
 "nbformat_minor": 0
}
